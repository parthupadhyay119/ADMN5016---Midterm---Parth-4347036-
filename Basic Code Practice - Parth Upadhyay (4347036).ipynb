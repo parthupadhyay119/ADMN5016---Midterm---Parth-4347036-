{
 "cells": [
  {
   "cell_type": "markdown",
   "id": "6eba662b",
   "metadata": {},
   "source": [
    "# ADMN5006 – Financial Analytics: Lab 1 (Updated file)"
   ]
  },
  {
   "cell_type": "code",
   "execution_count": 2,
   "id": "8c4b5b5b",
   "metadata": {},
   "outputs": [],
   "source": [
    "import pandas as pd\n",
    "import numpy as np\n",
    "import numpy_financial as npf"
   ]
  },
  {
   "cell_type": "markdown",
   "id": "f980b805",
   "metadata": {},
   "source": [
    "### Question 1\n",
    "\n",
    "What is the present value of $418 received in 12 years with an annual discount rate of 2.2%?"
   ]
  },
  {
   "cell_type": "code",
   "execution_count": 8,
   "id": "67fe06c7",
   "metadata": {},
   "outputs": [
    {
     "data": {
      "text/plain": [
       "321.9330263298923"
      ]
     },
     "execution_count": 8,
     "metadata": {},
     "output_type": "execute_result"
    }
   ],
   "source": [
    "pv = npf.pv(0.022,12,0,418)*-1\n",
    "pv"
   ]
  },
  {
   "cell_type": "code",
   "execution_count": 9,
   "id": "4aab48f4",
   "metadata": {},
   "outputs": [
    {
     "name": "stdout",
     "output_type": "stream",
     "text": [
      "$321.93\n"
     ]
    }
   ],
   "source": [
    "print('$' + '%.2f'%pv)"
   ]
  },
  {
   "cell_type": "markdown",
   "id": "c967e4b6",
   "metadata": {},
   "source": [
    "### Question 2\n",
    "\n",
    "If you deposit $2,400 in the bank for 15 years and the annual interest rate us 1.75%, what is the future value of your deposit in 15 years."
   ]
  },
  {
   "cell_type": "code",
   "execution_count": 10,
   "id": "c3dfba01",
   "metadata": {},
   "outputs": [
    {
     "data": {
      "text/plain": [
       "3113.3468726281876"
      ]
     },
     "execution_count": 10,
     "metadata": {},
     "output_type": "execute_result"
    }
   ],
   "source": [
    "fv = npf.fv(0.0175,15,0,2400)*-1\n",
    "fv"
   ]
  },
  {
   "cell_type": "code",
   "execution_count": 11,
   "id": "4b752388",
   "metadata": {},
   "outputs": [
    {
     "name": "stdout",
     "output_type": "stream",
     "text": [
      "$3113.35\n"
     ]
    }
   ],
   "source": [
    "print('$' + '%.2f'%fv)"
   ]
  },
  {
   "cell_type": "markdown",
   "id": "e5409bf7",
   "metadata": {},
   "source": [
    "### Question 3\n",
    "\n",
    "A capital investment in an equipment with an upfront cost of $23,540 will provide you with the following annual cash flow stream (paid end of year):\n",
    "\n",
    "1.\t$2,000\n",
    "\n",
    "2.\t$1,456\n",
    "\n",
    "3.\t$3,230\n",
    "\n",
    "4.\t$6,850\n",
    "\n",
    "5.\t$2,384\n",
    "\n",
    "6.\t$1,234\n",
    "\n",
    "7.\t$5,987\n",
    "\n",
    "8.\t$4,190\n",
    "\n",
    "Calculate the NPV of the investment and comment on whether you should invest in the project. Why or why not? The required rate of return is 3.5%."
   ]
  },
  {
   "cell_type": "code",
   "execution_count": 14,
   "id": "29052bea",
   "metadata": {},
   "outputs": [],
   "source": [
    "cashflows = [-23540,2000,1456,3230,6850,2384,1234,5987,4190]"
   ]
  },
  {
   "cell_type": "code",
   "execution_count": 15,
   "id": "72e1c05a",
   "metadata": {},
   "outputs": [
    {
     "data": {
      "text/plain": [
       "-467.0009444385264"
      ]
     },
     "execution_count": 15,
     "metadata": {},
     "output_type": "execute_result"
    }
   ],
   "source": [
    "npv = npf.npv(0.035,cashflows)\n",
    "npv"
   ]
  },
  {
   "cell_type": "code",
   "execution_count": 16,
   "id": "0a5691a2",
   "metadata": {},
   "outputs": [
    {
     "name": "stdout",
     "output_type": "stream",
     "text": [
      "$-467.00\n"
     ]
    }
   ],
   "source": [
    "print('$' + '%.2f'%npv)"
   ]
  },
  {
   "cell_type": "markdown",
   "id": "b4a19c30",
   "metadata": {},
   "source": [
    "The project is anticipated to cause a net loss for the corporation because the NPV output we are getting is a negative amount (i.e. $ - 467.00).\n",
    "\n",
    "Because of this reason, the company shouldn't invest in the project.  "
   ]
  },
  {
   "cell_type": "markdown",
   "id": "266cd6b0",
   "metadata": {},
   "source": [
    "### Question 4\n",
    "Explain what the time value of money is and why it is so important in the field of finance."
   ]
  },
  {
   "cell_type": "markdown",
   "id": "c66f2c07",
   "metadata": {},
   "source": [
    "Answer:\n",
    "\n",
    "According to the concept of the time value of money, money that is available now is worth more than the same amount in the future because of its potential for growth.\n",
    "\n",
    "This is because money has the capacity to increase because it may be invested and earn interest.\n",
    "The value of money received at various moments in time can be compared using this idea, which is crucial for making investment and financing decisions. \n",
    "\n",
    "For instance, if you are given the choice between receiving CAD 100 in a present day and CAD 100 in a year, you should choose CAD 100 today, since you may invest it and receive interest over the course of that year.\n",
    "\n",
    "This idea is used into a number of financial calculations, including those that determine internal rate of return and net present value, which are used to assess the profitability of investments and financing costs. "
   ]
  }
 ],
 "metadata": {
  "kernelspec": {
   "display_name": "Python 3 (ipykernel)",
   "language": "python",
   "name": "python3"
  },
  "language_info": {
   "codemirror_mode": {
    "name": "ipython",
    "version": 3
   },
   "file_extension": ".py",
   "mimetype": "text/x-python",
   "name": "python",
   "nbconvert_exporter": "python",
   "pygments_lexer": "ipython3",
   "version": "3.9.12"
  }
 },
 "nbformat": 4,
 "nbformat_minor": 5
}
